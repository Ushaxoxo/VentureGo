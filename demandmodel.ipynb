{
  "nbformat": 4,
  "nbformat_minor": 0,
  "metadata": {
    "colab": {
      "provenance": []
    },
    "kernelspec": {
      "name": "python3",
      "display_name": "Python 3"
    },
    "language_info": {
      "name": "python"
    }
  },
  "cells": [
    {
      "cell_type": "code",
      "execution_count": null,
      "metadata": {
        "colab": {
          "base_uri": "https://localhost:8080/"
        },
        "id": "yzwdXw-Ezmbo",
        "outputId": "dae345a4-667a-4403-c702-da1a54523156"
      },
      "outputs": [
        {
          "output_type": "stream",
          "name": "stdout",
          "text": [
            "Predicted outputs for new data:\n",
            "['N' 'N' 'N' 'L' 'N' 'N' 'N' 'L' 'N' 'L' 'N' 'L' 'N' 'N' 'N' 'N' 'L' 'L'\n",
            " 'L' 'N' 'N' 'L' 'N' 'L' 'N' 'L' 'L' 'L' 'L' 'L' 'N' 'L' 'L' 'L' 'L' 'N'\n",
            " 'M' 'N' 'L' 'N' 'L' 'N']\n",
            "Mean Squared Error: 0.2857142857142857\n",
            "R-squared: 0.7540263543191801\n"
          ]
        }
      ],
      "source": [
        "from sklearn.model_selection import train_test_split\n",
        "from sklearn.ensemble import RandomForestClassifier\n",
        "from sklearn.metrics import mean_squared_error, r2_score\n",
        "import pandas as pd\n",
        "from sklearn.preprocessing import LabelEncoder\n",
        "label_encoder = LabelEncoder()\n",
        "\n",
        "\n",
        "df = pd.read_csv('/content/VentureGo - model_data.csv')\n",
        "\n",
        "df['shop_type'] = label_encoder.fit_transform(df['shop_type'])\n",
        "df['demand'] = label_encoder.fit_transform(df['demand'])\n",
        "\n",
        "X = df[['shop_type','small','medium','large','existing_ct','need_ct','diff']].values\n",
        "y = df[['demand']].values\n",
        "\n",
        "X_train, X_test, y_train, y_test = train_test_split(X, y, test_size=0.2, random_state=42)\n",
        "\n",
        "# Instantiate the Random Forest Regressor\n",
        "y_train = y_train.ravel()\n",
        "\n",
        "Classifier = RandomForestClassifier(n_estimators=100, random_state=42)\n",
        "\n",
        "Classifier.fit(X_train, y_train)\n",
        "\n",
        "# Make predictions on the test data\n",
        "\n",
        "predictions = Classifier.predict(X_test)\n",
        "\n",
        "\n",
        "pre = label_encoder.inverse_transform(predictions)\n",
        "\n",
        "print(\"Predicted outputs for new data:\")\n",
        "print(pre)\n",
        "\n",
        "\n",
        "# Calculate and print the evaluation metrics\n",
        "mse = mean_squared_error(y_test, predictions)\n",
        "r2 = r2_score(y_test, predictions)\n",
        "print(\"Mean Squared Error:\", mse)\n",
        "print(\"R-squared:\",r2)\n",
        "\n",
        "\n"
      ]
    }
  ]
}